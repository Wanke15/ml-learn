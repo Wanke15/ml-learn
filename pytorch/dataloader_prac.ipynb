{
 "cells": [
  {
   "cell_type": "code",
   "execution_count": 1,
   "metadata": {
    "_cell_guid": "79c7e3d0-c299-4dcb-8224-4455121ee9b0",
    "_uuid": "d629ff2d2480ee46fbb7e2d37f6b5fab8052498a"
   },
   "outputs": [],
   "source": [
    "import torch\n",
    "import torch.nn as nn\n",
    "import torch.nn.functional as F\n",
    "from torch.autograd import Variable\n",
    "from torch.optim import Adam\n",
    "\n",
    "from sklearn.datasets import load_iris\n",
    "\n",
    "import matplotlib.pyplot as plt\n",
    "%matplotlib inline\n",
    "from IPython import display"
   ]
  },
  {
   "cell_type": "code",
   "execution_count": 2,
   "metadata": {},
   "outputs": [],
   "source": [
    "iris = load_iris()\n",
    "\n",
    "x = iris['data']\n",
    "y = iris['target']\n",
    "\n",
    "x = torch.FloatTensor(x)\n",
    "y = torch.tensor(y, dtype=torch.long)\n",
    "\n",
    "x, y = Variable(x), Variable(y)"
   ]
  },
  {
   "cell_type": "code",
   "execution_count": 3,
   "metadata": {},
   "outputs": [],
   "source": [
    "class SingleHiddenNet(nn.Module):\n",
    "    # define nn\n",
    "    def __init__(self, n_features, n_hidden, n_output):\n",
    "        super(SingleHiddenNet, self).__init__()\n",
    "        self.hidden = nn.Linear(n_features, n_hidden)\n",
    "        self.logits = nn.Linear(n_hidden, n_output)\n",
    "\n",
    "    def forward(self, X):\n",
    "        X = F.sigmoid(self.hidden(X))\n",
    "        X = self.logits(X)\n",
    "        out = F.log_softmax(X, dim=1)\n",
    "\n",
    "        return out"
   ]
  },
  {
   "cell_type": "code",
   "execution_count": 4,
   "metadata": {},
   "outputs": [
    {
     "data": {
      "image/png": "[encoded data removed]",
      "text/plain": [
       "<Figure size 432x288 with 1 Axes>"
      ]
     },
     "metadata": {
      "needs_background": "light"
     },
     "output_type": "display_data"
    },
    {
     "name": "stdout",
     "output_type": "stream",
     "text": [
      "Final loss:  tensor(0.0405, device='cuda:0')\n"
     ]
    }
   ],
   "source": [
    "iris = load_iris()\n",
    "\n",
    "x = iris['data']\n",
    "y = iris['target']\n",
    "\n",
    "x = torch.FloatTensor(x)\n",
    "y = torch.tensor(y, dtype=torch.long)\n",
    "\n",
    "x, y = Variable(x), Variable(y)\n",
    "\n",
    "net = SingleHiddenNet(4, 5, 4)\n",
    "\n",
    "use_cuda = torch.cuda.is_available()\n",
    "print('use cuda: ', use_cuda)\n",
    "\n",
    "if use_cuda:\n",
    "    x = x.cuda()\n",
    "    y = y.cuda()\n",
    "    net = net.cuda()\n",
    "\n",
    "optimizer = Adam(net.parameters(), lr=0.1)\n",
    "\n",
    "px, py = [], []\n",
    "for i in range(1000):\n",
    "    logits = net(x)\n",
    "    \n",
    "    # loss = F.cross_entropy(logits, y)\n",
    "    loss = F.nll_loss(logits, y)\n",
    "    \n",
    "    optimizer.zero_grad()\n",
    "    \n",
    "    loss.backward()\n",
    "    \n",
    "    optimizer.step()\n",
    "    \n",
    "    # if i % 100 == 0:\n",
    "    #     print(i, \" loss: \", loss.data)\n",
    "        \n",
    "    px.append(i)\n",
    "    py.append(loss.data)\n",
    "    \n",
    "    if i % 10 == 0:\n",
    "        plt.plot(px, py, 'r-', lw=1)\n",
    "        print(i, \" loss: \", loss.data)\n",
    "        display.clear_output(wait=True)\n",
    "        plt.show()\n",
    "        \n",
    "print(\"Final loss: \", loss.data)"
   ]
  },
  {
   "cell_type": "code",
   "execution_count": 5,
   "metadata": {},
   "outputs": [
    {
     "data": {
      "image/png": "[encoded data removed]",
      "text/plain": [
       "<Figure size 432x288 with 1 Axes>"
      ]
     },
     "metadata": {
      "needs_background": "light"
     },
     "output_type": "display_data"
    },
    {
     "name": "stdout",
     "output_type": "stream",
     "text": [
      "Final loss:  tensor(1.1009, device='cuda:0')\n"
     ]
    }
   ],
   "source": [
    "iris = load_iris()\n",
    "\n",
    "x = iris['data']\n",
    "y = iris['target']\n",
    "\n",
    "x = torch.FloatTensor(x)\n",
    "y = torch.tensor(y, dtype=torch.long)\n",
    "\n",
    "x, y = Variable(x), Variable(y)\n",
    "\n",
    "net = SingleHiddenNet(4, 5, 4)\n",
    "\n",
    "use_cuda = torch.cuda.is_available()\n",
    "print('use cuda: ', use_cuda)\n",
    "\n",
    "if use_cuda:\n",
    "    x = x.cuda()\n",
    "    y = y.cuda()\n",
    "    net = net.cuda()\n",
    "\n",
    "optimizer = Adam(net.parameters(), lr=0.9)\n",
    "\n",
    "px, py = [], []\n",
    "for i in range(1000):\n",
    "    logits = net(x)\n",
    "    \n",
    "    # loss = F.cross_entropy(logits, y)\n",
    "    loss = F.nll_loss(logits, y)\n",
    "    \n",
    "    optimizer.zero_grad()\n",
    "    \n",
    "    loss.backward()\n",
    "    \n",
    "    optimizer.step()\n",
    "    \n",
    "    # if i % 100 == 0:\n",
    "    #     print(i, \" loss: \", loss.data)\n",
    "        \n",
    "    px.append(i)\n",
    "    py.append(loss.data)\n",
    "    \n",
    "    if i % 10 == 0:\n",
    "        plt.plot(px, py, 'r-', lw=1)\n",
    "        print(i, \" loss: \", loss.data)\n",
    "        display.clear_output(wait=True)\n",
    "        plt.show()\n",
    "        \n",
    "print(\"Final loss: \", loss.data)"
   ]
  },
  {
   "cell_type": "markdown",
   "metadata": {},
   "source": [
    "## Dataloader practice"
   ]
  },
  {
   "cell_type": "code",
   "execution_count": 6,
   "metadata": {},
   "outputs": [],
   "source": [
    "import torch\n",
    "import torch.nn as nn\n",
    "import torch.nn.functional as F\n",
    "from torch.autograd import Variable\n",
    "from torch.optim import Adam\n",
    "\n",
    "from sklearn.datasets import load_iris\n",
    "\n",
    "import matplotlib.pyplot as plt\n",
    "%matplotlib inline\n",
    "from IPython import display\n",
    "\n",
    "import torch.utils.data as Data \n",
    "\n",
    "from sklearn.model_selection import train_test_split"
   ]
  },
  {
   "cell_type": "code",
   "execution_count": 7,
   "metadata": {},
   "outputs": [],
   "source": [
    "class SingleHiddenNet(nn.Module):\n",
    "    # define nn\n",
    "    def __init__(self, n_features, n_hidden, n_output):\n",
    "        super(SingleHiddenNet, self).__init__()\n",
    "        self.hidden = nn.Linear(n_features, n_hidden)\n",
    "        self.logits = nn.Linear(n_hidden, n_output)\n",
    "\n",
    "    def forward(self, X):\n",
    "        X = F.sigmoid(self.hidden(X))\n",
    "        X = self.logits(X)\n",
    "        out = F.log_softmax(X, dim=1)\n",
    "\n",
    "        return out"
   ]
  },
  {
   "cell_type": "code",
   "execution_count": 8,
   "metadata": {},
   "outputs": [
    {
     "data": {
      "image/png": "[encoded data removed]",
      "text/plain": [
       "<Figure size 432x288 with 1 Axes>"
      ]
     },
     "metadata": {
      "needs_background": "light"
     },
     "output_type": "display_data"
    },
    {
     "name": "stdout",
     "output_type": "stream",
     "text": [
      "Epoch: 623, Loss: 0.07108\n"
     ]
    }
   ],
   "source": [
    "net = SingleHiddenNet(4, 5, 4)\n",
    "\n",
    "iris = load_iris()\n",
    "x = iris['data']\n",
    "y = iris['target']\n",
    "\n",
    "x_tr, x_te, y_tr, y_te = train_test_split(x, y, test_size=0.2)\n",
    "\n",
    "tr_x = torch.FloatTensor(x_tr)\n",
    "tr_y = torch.tensor(y_tr)\n",
    "\n",
    "te_x = torch.FloatTensor(x_te)\n",
    "te_y = torch.tensor(y_te)\n",
    "\n",
    "tr_x, tr_y = Variable(tr_x), Variable(tr_y)\n",
    "\n",
    "te_x, te_y = Variable(te_x), Variable(te_y)\n",
    "\n",
    "use_cuda = torch.cuda.is_available()\n",
    "print('use cuda: ', use_cuda)\n",
    "\n",
    "if use_cuda:\n",
    "    tr_x = tr_x.cuda()\n",
    "    tr_y = tr_y.cuda()\n",
    "    \n",
    "    net = net.cuda()\n",
    "    \n",
    "    te_x = te_x.cuda()\n",
    "    te_y = te_y.cuda()\n",
    "    \n",
    "    \n",
    "train_dataset = Data.TensorDataset(tr_x, tr_y)\n",
    "train_loader = Data.DataLoader(train_dataset, batch_size=32, shuffle=True)\n",
    "\n",
    "test_dataset = Data.TensorDataset(te_x, te_y)\n",
    "test_loader = Data.DataLoader(test_dataset, batch_size=32, shuffle=True)\n",
    "\n",
    "optimizer = Adam(net.parameters(), lr=0.1)\n",
    "\n",
    "px, py = [], []\n",
    "i = 0\n",
    "for epoch in range(1000):\n",
    "    for step, (batch_x, batch_y) in enumerate(train_loader): \n",
    "        b_x = Variable(batch_x)\n",
    "        b_y = Variable(batch_y)\n",
    "        \n",
    "        logits = net(b_x)\n",
    "\n",
    "        loss = F.nll_loss(logits, b_y)\n",
    "\n",
    "        optimizer.zero_grad()\n",
    "\n",
    "        loss.backward()\n",
    "\n",
    "        optimizer.step()\n",
    "\n",
    "        px.append(i)\n",
    "        i += 1\n",
    "        py.append(loss.data)\n",
    "\n",
    "    plt.plot(px, py, 'r-', lw=1)\n",
    "    print(\"Epoch: %d, Loss: %.5f\" %(epoch, loss.data))\n",
    "    display.clear_output(wait=True)\n",
    "    plt.show()\n",
    "        \n",
    "print(\"Final loss: \", loss.data)\n",
    "\n",
    "\n",
    "test_loss = 0\n",
    "correct = 0\n",
    "device = torch.device('cuda') if use_cuda else torch.device('cpu')\n",
    "with torch.no_grad():\n",
    "    for data, target in test_loader:\n",
    "        data, target = data.to(device), target.to(device)\n",
    "        output = net(data)\n",
    "        test_loss += F.nll_loss(output, target, reduction='sum').item() # sum up batch loss\n",
    "        pred = output.argmax(dim=1, keepdim=True) # get the index of the max log-probability\n",
    "        correct += pred.eq(target.view_as(pred)).sum().item()\n",
    "\n",
    "test_loss /= len(test_loader.dataset)\n",
    "\n",
    "print('\\nTest set: Average loss: {:.4f}, Accuracy: {}/{} ({:.0f}%)\\n'.format(\n",
    "    test_loss, correct, len(test_loader.dataset),\n",
    "    100. * correct / len(test_loader.dataset)))"
   ]
  },
  {
   "cell_type": "code",
   "execution_count": null,
   "metadata": {},
   "outputs": [],
   "source": []
  }
 ],
 "metadata": {
  "kernelspec": {
   "display_name": "Python 3",
   "language": "python",
   "name": "python3"
  },
  "language_info": {
   "codemirror_mode": {
    "name": "ipython",
    "version": 3
   },
   "file_extension": ".py",
   "mimetype": "text/x-python",
   "name": "python",
   "nbconvert_exporter": "python",
   "pygments_lexer": "ipython3",
   "version": "3.6.6"
  }
 },
 "nbformat": 4,
 "nbformat_minor": 1
}
